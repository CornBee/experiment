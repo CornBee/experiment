{
 "cells": [
  {
   "cell_type": "code",
   "execution_count": 1,
   "metadata": {},
   "outputs": [
    {
     "ename": "ModuleNotFoundError",
     "evalue": "No module named 'pandas'",
     "output_type": "error",
     "traceback": [
      "\u001b[0;31m---------------------------------------------------------------------------\u001b[0m",
      "\u001b[0;31mModuleNotFoundError\u001b[0m                       Traceback (most recent call last)",
      "\u001b[0;32m<ipython-input-1-d77d91e3692f>\u001b[0m in \u001b[0;36m<module>\u001b[0;34m()\u001b[0m\n\u001b[0;32m----> 1\u001b[0;31m \u001b[0;32mimport\u001b[0m \u001b[0mpandas\u001b[0m \u001b[0;32mas\u001b[0m \u001b[0mpd\u001b[0m\u001b[0;34m\u001b[0m\u001b[0;34m\u001b[0m\u001b[0m\n\u001b[0m\u001b[1;32m      2\u001b[0m \u001b[0;32mimport\u001b[0m \u001b[0mmatplotlib\u001b[0m\u001b[0;34m.\u001b[0m\u001b[0mpyplot\u001b[0m \u001b[0;32mas\u001b[0m \u001b[0mplt\u001b[0m\u001b[0;34m\u001b[0m\u001b[0;34m\u001b[0m\u001b[0m\n\u001b[1;32m      3\u001b[0m \u001b[0;32mimport\u001b[0m \u001b[0mnumpy\u001b[0m \u001b[0;32mas\u001b[0m \u001b[0mnp\u001b[0m\u001b[0;34m\u001b[0m\u001b[0;34m\u001b[0m\u001b[0m\n\u001b[1;32m      4\u001b[0m \u001b[0;34m\u001b[0m\u001b[0m\n\u001b[1;32m      5\u001b[0m \u001b[0;31m# 로컬 파일 시스템에서 로그 파일을 읽어옵니다.\u001b[0m\u001b[0;34m\u001b[0m\u001b[0;34m\u001b[0m\u001b[0;34m\u001b[0m\u001b[0m\n",
      "\u001b[0;31mModuleNotFoundError\u001b[0m: No module named 'pandas'"
     ]
    }
   ],
   "source": [
    "import pandas as pd\n",
    "import matplotlib.pyplot as plt\n",
    "import numpy as np\n",
    "\n",
    "# 로컬 파일 시스템에서 로그 파일을 읽어옵니다.\n",
    "log_file_path = '/home/rtcl/Documents/experiment/logs/receiver/receiver_log.txt'\n",
    "with open(log_file_path, 'r') as file:\n",
    "    receiver_log = file.read()\n",
    "\n",
    "log_entries = []\n",
    "for line in receiver_log.split('\\n'):\n",
    "    if line.startswith('Received at'):\n",
    "        try:\n",
    "            receive_time_str = line.split('Received at ')[1].split(':')[0].strip()\n",
    "            send_time_str = line.split('Sent at ')[1].split(',')[0].strip()\n",
    "            delay_str = line.split('Delay: ')[1].split(' ')[0].strip()\n",
    "            priority = line.split('Priority: ')[1].strip()\n",
    "\n",
    "            receive_time = float(receive_time_str)\n",
    "            send_time = float(send_time_str)\n",
    "            delay = float(delay_str)\n",
    "\n",
    "            log_entries.append((receive_time, send_time, delay, priority))\n",
    "        except Exception as e:\n",
    "            print(f\"Error processing line: '{line}', Error: {e}\")\n",
    "\n",
    "df_delays = pd.DataFrame(log_entries, columns=['Receive Time', 'Send Time', 'Delay', 'Priority'])\n",
    "df_delays['Receive Time'] = pd.to_datetime(df_delays['Receive Time'], unit='s')\n",
    "df_delays['Send Time'] = pd.to_datetime(df_delays['Send Time'], unit='s')\n",
    "\n",
    "# 평균 지연 시간과 표준 편차를 계산합니다.\n",
    "average_delays = df_delays.groupby('Priority')['Delay'].mean()\n",
    "std_delays = df_delays.groupby('Priority')['Delay'].std()\n",
    "\n",
    "# 데이터를 시각화합니다.\n",
    "plt.figure(figsize=(15, 7))\n",
    "for priority in df_delays['Priority'].unique():\n",
    "    subset = df_delays[df_delays['Priority'] == priority]\n",
    "    plt.plot(subset['Receive Time'], subset['Delay'], label=f'Delay {priority}')\n",
    "\n",
    "# 평균 지연 시간과 표준 편차를 출력합니다.\n",
    "for priority in average_delays.index:\n",
    "    plt.axhline(y=average_delays[priority], color='grey', linestyle='--')\n",
    "    plt.text(df_delays['Receive Time'].min(), average_delays[priority], f'{priority} Avg Delay: {average_delays[priority]:.2f} s, Std: {std_delays[priority]:.2f}', backgroundcolor='white')\n",
    "\n",
    "plt.title('Delays over Time by Priority')\n",
    "plt.xlabel('Receive Time')\n",
    "plt.ylabel('Delay (seconds)')\n",
    "plt.legend()\n",
    "plt.show()\n"
   ]
  },
  {
   "cell_type": "code",
   "execution_count": null,
   "metadata": {},
   "outputs": [],
   "source": []
  }
 ],
 "metadata": {
  "kernelspec": {
   "display_name": "Python 3",
   "language": "python",
   "name": "python3"
  },
  "language_info": {
   "codemirror_mode": {
    "name": "ipython",
    "version": 3
   },
   "file_extension": ".py",
   "mimetype": "text/x-python",
   "name": "python",
   "nbconvert_exporter": "python",
   "pygments_lexer": "ipython3",
   "version": "3.6.9"
  }
 },
 "nbformat": 4,
 "nbformat_minor": 2
}
